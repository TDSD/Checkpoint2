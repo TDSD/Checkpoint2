{
 "cells": [
  {
   "cell_type": "markdown",
   "id": "153d80e2",
   "metadata": {},
   "source": [
    "## Question 1"
   ]
  },
  {
   "cell_type": "code",
   "execution_count": 39,
   "id": "595c0a9e",
   "metadata": {},
   "outputs": [
    {
     "name": "stdout",
     "output_type": "stream",
     "text": [
      "[2002, 2009, 2016, 2023, 2037, 2044, 2051, 2058, 2072, 2079, 2086, 2093, 2107, 2114, 2121, 2128, 2142, 2149, 2156, 2163, 2177, 2184, 2191, 2198, 2212, 2219, 2226, 2233, 2247, 2254, 2261, 2268, 2282, 2289, 2296, 2303, 2317, 2324, 2331, 2338, 2352, 2359, 2366, 2373, 2387, 2394, 2401, 2408, 2422, 2429, 2436, 2443, 2457, 2464, 2471, 2478, 2492, 2499, 2506, 2513, 2527, 2534, 2541, 2548, 2562, 2569, 2576, 2583, 2597, 2604, 2611, 2618, 2632, 2639, 2646, 2653, 2667, 2674, 2681, 2688, 2702, 2709, 2716, 2723, 2737, 2744, 2751, 2758, 2772, 2779, 2786, 2793, 2807, 2814, 2821, 2828, 2842, 2849, 2856, 2863, 2877, 2884, 2891, 2898, 2912, 2919, 2926, 2933, 2947, 2954, 2961, 2968, 2982, 2989, 2996, 3003, 3017, 3024, 3031, 3038, 3052, 3059, 3066, 3073, 3087, 3094, 3101, 3108, 3122, 3129, 3136, 3143, 3157, 3164, 3171, 3178, 3192, 3199]\n"
     ]
    }
   ],
   "source": [
    "tab = []\n",
    "for i in range(2000,3201):\n",
    "    if(i%7 == 0 and i%5 !=0):\n",
    "        tab.append(i)\n",
    "print(tab)"
   ]
  },
  {
   "cell_type": "markdown",
   "id": "c54a963c",
   "metadata": {},
   "source": [
    "## Question 2"
   ]
  },
  {
   "cell_type": "code",
   "execution_count": 37,
   "id": "07d5977a",
   "metadata": {},
   "outputs": [
    {
     "name": "stdout",
     "output_type": "stream",
     "text": [
      "5\n",
      "factoriel de  5 = 120\n"
     ]
    }
   ],
   "source": [
    "n=input()\n",
    "n=int(n)+1\n",
    "factoriel = 1\n",
    "for i in range(1,n):\n",
    "    factoriel *=i\n",
    "print(\"factoriel de \",n-1,\"=\",factoriel)"
   ]
  },
  {
   "cell_type": "markdown",
   "id": "be4078ae",
   "metadata": {},
   "source": [
    "## Question 3"
   ]
  },
  {
   "cell_type": "code",
   "execution_count": 80,
   "id": "e35793b5",
   "metadata": {},
   "outputs": [
    {
     "name": "stdout",
     "output_type": "stream",
     "text": [
      "8\n",
      "{1: 1, 2: 4, 3: 9, 4: 16, 5: 25, 6: 36, 7: 49, 8: 64}\n"
     ]
    }
   ],
   "source": [
    "dictionnaire={}\n",
    "n=int(input())+1\n",
    "for i in range(1,n):\n",
    "    dictionnaire[i]=i*i\n",
    "print(dictionnaire)"
   ]
  },
  {
   "cell_type": "markdown",
   "id": "553d0823",
   "metadata": {},
   "source": [
    "## Question 4"
   ]
  },
  {
   "cell_type": "code",
   "execution_count": 75,
   "id": "386cb229",
   "metadata": {},
   "outputs": [
    {
     "name": "stdout",
     "output_type": "stream",
     "text": [
      "L'index n'est pas valide\n"
     ]
    },
    {
     "data": {
      "text/plain": [
       "'ktten'"
      ]
     },
     "execution_count": 75,
     "metadata": {},
     "output_type": "execute_result"
    }
   ],
   "source": [
    "def missing_char(chaine,index):\n",
    "    if index in range(0,len(chaine)):\n",
    "        tab=[]\n",
    "        for i in range(0,len(chaine)):\n",
    "            tab.append(chaine[i])\n",
    "        del tab[index]\n",
    "        return \"\".join(tab)\n",
    "    else:\n",
    "        print(\"L'index n'est pas valide\")\n",
    "missing_char('tester',8)\n",
    "missing_char('kitten',1)"
   ]
  },
  {
   "cell_type": "markdown",
   "id": "6dbafd9b",
   "metadata": {},
   "source": [
    "## Question 5"
   ]
  },
  {
   "cell_type": "code",
   "execution_count": 74,
   "id": "c13b2c68",
   "metadata": {},
   "outputs": [
    {
     "name": "stdout",
     "output_type": "stream",
     "text": [
      "[[1 2]\n",
      " [3 4]]\n",
      "[[1, 2], [3, 4]]\n"
     ]
    }
   ],
   "source": [
    "import numpy as np\n",
    "a = np.array([[1, 2], [3, 4]])\n",
    "print(a)\n",
    "b = a.tolist()\n",
    "print(b)"
   ]
  },
  {
   "cell_type": "markdown",
   "id": "2ae52132",
   "metadata": {},
   "source": [
    "## Question 6 "
   ]
  },
  {
   "cell_type": "code",
   "execution_count": 87,
   "id": "e0da23e1",
   "metadata": {},
   "outputs": [
    {
     "name": "stdout",
     "output_type": "stream",
     "text": [
      "4\n",
      "Renseignez les éléments du premier tableau\n",
      "4\n",
      "4\n",
      "5\n",
      "1\n",
      "Renseignez les éléments du deuxième tableau\n",
      "8\n",
      "7\n",
      "9\n",
      "6\n",
      "[[3.         2.        ]\n",
      " [2.         1.66666667]]\n"
     ]
    }
   ],
   "source": [
    "import numpy as np\n",
    "tab1 = []\n",
    "tab2 = []\n",
    "taille_tab=int(input())\n",
    "print(\"Renseignez les éléments du premier tableau\")\n",
    "for i in range(taille_tab):\n",
    "    tab1.append(int(input()))\n",
    "print(\"Renseignez les éléments du deuxième tableau\")\n",
    "for i in range(taille_tab):\n",
    "    tab2.append(int(input()))\n",
    "result=np.cov(tab1,tab2)\n",
    "print(result)"
   ]
  },
  {
   "cell_type": "markdown",
   "id": "8d398e56",
   "metadata": {},
   "source": [
    "## Question 7 "
   ]
  },
  {
   "cell_type": "code",
   "execution_count": 117,
   "id": "4665dd52",
   "metadata": {},
   "outputs": [
    {
     "name": "stdout",
     "output_type": "stream",
     "text": [
      "100,150,180\n",
      "18,22,24\n"
     ]
    }
   ],
   "source": [
    "from math import *\n",
    "C = 50\n",
    "H = 30\n",
    "D = input()\n",
    "\n",
    "#We use the split method to divide the character string D according to the separator ','.\n",
    "D= D.split(\",\")\n",
    "\n",
    "#We initialize the char variable in order to be able to store the sequence of results obtained, separated by commas.\n",
    "char=''\n",
    "\n",
    "\n",
    "#We get each element of the list D, then we convert it to int \n",
    "#to be able to apply the formula Square root of [(2 * C * D)/H]for i in range(len(D)):\n",
    "    a=int(D[i])\n",
    "    b=sqrt((2*C*a)/H)\n",
    "    char += str(round(b))+','\n",
    "\n",
    "#We use the missing_char function covered in question 4\n",
    "print(missing_char(char,len(char)-1))"
   ]
  },
  {
   "cell_type": "code",
   "execution_count": null,
   "id": "7b297360",
   "metadata": {},
   "outputs": [],
   "source": []
  },
  {
   "cell_type": "code",
   "execution_count": null,
   "id": "dc2c573d",
   "metadata": {},
   "outputs": [],
   "source": []
  }
 ],
 "metadata": {
  "kernelspec": {
   "display_name": "Python 3 (ipykernel)",
   "language": "python",
   "name": "python3"
  },
  "language_info": {
   "codemirror_mode": {
    "name": "ipython",
    "version": 3
   },
   "file_extension": ".py",
   "mimetype": "text/x-python",
   "name": "python",
   "nbconvert_exporter": "python",
   "pygments_lexer": "ipython3",
   "version": "3.9.7"
  }
 },
 "nbformat": 4,
 "nbformat_minor": 5
}
